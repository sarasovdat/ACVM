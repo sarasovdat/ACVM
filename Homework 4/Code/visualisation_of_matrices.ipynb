{
 "cells": [
  {
   "cell_type": "markdown",
   "id": "c383f880-cecd-4c80-ab2e-0383ffe939a9",
   "metadata": {},
   "source": [
    "## Motion models and Kalman filter\n",
    "### Matrices computation and visualization"
   ]
  },
  {
   "cell_type": "code",
   "execution_count": null,
   "id": "691093fb-b4f6-4ce0-a9e3-a415389ad469",
   "metadata": {},
   "outputs": [],
   "source": [
    "import numpy as np\n",
    "import matplotlib.pyplot as plt\n",
    "from ex4_utils import kalman_step\n",
    "import sympy as sp\n",
    "import math"
   ]
  },
  {
   "cell_type": "markdown",
   "id": "e0bba4bf-9a6d-453d-8bcc-2f467a865695",
   "metadata": {},
   "source": [
    "### Random walk\n",
    "Calculation of inputs"
   ]
  },
  {
   "cell_type": "code",
   "execution_count": 21,
   "id": "134b168c-c3ea-469d-9d36-3d6fc240ff62",
   "metadata": {},
   "outputs": [],
   "source": [
    "T = sp.symbols('T')\n",
    "q = sp.symbols('q')\n",
    "r = sp.symbols('r')"
   ]
  },
  {
   "cell_type": "markdown",
   "id": "b12f5c64-532f-4727-8707-8035acf7b74c",
   "metadata": {},
   "source": [
    "- A = Fi"
   ]
  },
  {
   "cell_type": "code",
   "execution_count": 22,
   "id": "7c1fc2a4-1dfa-4ba1-8352-33b480dfc4d7",
   "metadata": {},
   "outputs": [
    {
     "data": {
      "text/latex": [
       "$\\displaystyle \\left[\\begin{matrix}1 & 0\\\\0 & 1\\end{matrix}\\right]$"
      ],
      "text/plain": [
       "Matrix([\n",
       "[1, 0],\n",
       "[0, 1]])"
      ]
     },
     "execution_count": 22,
     "metadata": {},
     "output_type": "execute_result"
    }
   ],
   "source": [
    "# General (and also for T = 1)\n",
    "F = sp.zeros(2)\n",
    "Fi = sp.exp(F * T)\n",
    "Fi"
   ]
  },
  {
   "cell_type": "markdown",
   "id": "37574fd8-444f-47a3-9b98-338df583cf79",
   "metadata": {},
   "source": [
    "- C = H"
   ]
  },
  {
   "cell_type": "code",
   "execution_count": 23,
   "id": "87ff1599-1d09-443c-a020-924f61c43f16",
   "metadata": {},
   "outputs": [
    {
     "data": {
      "text/latex": [
       "$\\displaystyle \\left[\\begin{matrix}1 & 0\\\\0 & 1\\end{matrix}\\right]$"
      ],
      "text/plain": [
       "Matrix([\n",
       "[1, 0],\n",
       "[0, 1]])"
      ]
     },
     "execution_count": 23,
     "metadata": {},
     "output_type": "execute_result"
    }
   ],
   "source": [
    "H = sp.Matrix([[1, 0], [0, 1]])\n",
    "H"
   ]
  },
  {
   "cell_type": "markdown",
   "id": "5ff03554-4233-4473-b6d6-d585ac969129",
   "metadata": {},
   "source": [
    "- Q"
   ]
  },
  {
   "cell_type": "code",
   "execution_count": 26,
   "id": "c62457e7-36ab-45b1-8b41-7cd952e10cb2",
   "metadata": {},
   "outputs": [
    {
     "data": {
      "text/latex": [
       "$\\displaystyle \\left[\\begin{matrix}T q & 0\\\\0 & T q\\end{matrix}\\right]$"
      ],
      "text/plain": [
       "Matrix([\n",
       "[T*q,   0],\n",
       "[  0, T*q]])"
      ]
     },
     "execution_count": 26,
     "metadata": {},
     "output_type": "execute_result"
    }
   ],
   "source": [
    "# General\n",
    "L = sp.eye(2)\n",
    "Q = sp.integrate((Fi * L) * q * (Fi * L).T, (T, 0, T))\n",
    "Q"
   ]
  },
  {
   "cell_type": "code",
   "execution_count": 27,
   "id": "51d20860-7240-4c2c-aa1a-b7983b99aa86",
   "metadata": {},
   "outputs": [
    {
     "data": {
      "text/latex": [
       "$\\displaystyle \\left[\\begin{matrix}q & 0\\\\0 & q\\end{matrix}\\right]$"
      ],
      "text/plain": [
       "Matrix([\n",
       "[q, 0],\n",
       "[0, q]])"
      ]
     },
     "execution_count": 27,
     "metadata": {},
     "output_type": "execute_result"
    }
   ],
   "source": [
    "# For T = 1\n",
    "# For q we can choose different values\n",
    "Q.subs(T, 1)"
   ]
  },
  {
   "cell_type": "markdown",
   "id": "487aa5e7-a611-4005-81c8-28a89cd8cfd3",
   "metadata": {},
   "source": [
    "- R"
   ]
  },
  {
   "cell_type": "code",
   "execution_count": 28,
   "id": "7cf059e6-c641-4603-b40b-4984d0f4fd41",
   "metadata": {},
   "outputs": [
    {
     "data": {
      "text/latex": [
       "$\\displaystyle \\left[\\begin{matrix}r & 0\\\\0 & r\\end{matrix}\\right]$"
      ],
      "text/plain": [
       "Matrix([\n",
       "[r, 0],\n",
       "[0, r]])"
      ]
     },
     "execution_count": 28,
     "metadata": {},
     "output_type": "execute_result"
    }
   ],
   "source": [
    "# For r we can choose different values\n",
    "R = r * sp.Matrix([[1, 0], [0, 1]])\n",
    "R"
   ]
  },
  {
   "cell_type": "markdown",
   "id": "4a03830d-0640-4d10-b39a-cf07315e9cb5",
   "metadata": {},
   "source": [
    "### Nearly-Constant Velocity\n",
    "Calculation of inputs"
   ]
  },
  {
   "cell_type": "code",
   "execution_count": 29,
   "id": "32f62aeb-978d-4fa4-b1cd-6972e2161e37",
   "metadata": {},
   "outputs": [],
   "source": [
    "T = sp.symbols('T')\n",
    "q = sp.symbols('q')\n",
    "r = sp.symbols('r')"
   ]
  },
  {
   "cell_type": "markdown",
   "id": "47019be8-4743-40b0-b805-3fee49580904",
   "metadata": {},
   "source": [
    "- A = Fi"
   ]
  },
  {
   "cell_type": "code",
   "execution_count": 30,
   "id": "c532a382-cdc2-4bb6-8767-2b2f010502f3",
   "metadata": {},
   "outputs": [
    {
     "data": {
      "text/latex": [
       "$\\displaystyle \\left[\\begin{matrix}1 & 0 & T & 0\\\\0 & 1 & 0 & T\\\\0 & 0 & 1 & 0\\\\0 & 0 & 0 & 1\\end{matrix}\\right]$"
      ],
      "text/plain": [
       "Matrix([\n",
       "[1, 0, T, 0],\n",
       "[0, 1, 0, T],\n",
       "[0, 0, 1, 0],\n",
       "[0, 0, 0, 1]])"
      ]
     },
     "execution_count": 30,
     "metadata": {},
     "output_type": "execute_result"
    }
   ],
   "source": [
    "# General\n",
    "F = sp.Matrix([[0, 0, 1, 0],\n",
    "               [0, 0, 0, 1],\n",
    "               [0, 0, 0, 0],\n",
    "               [0, 0, 0, 0]])\n",
    "Fi = sp.exp(F * T)\n",
    "Fi"
   ]
  },
  {
   "cell_type": "code",
   "execution_count": 31,
   "id": "63b7ca91-cb97-4e76-b502-932a51db8315",
   "metadata": {},
   "outputs": [
    {
     "data": {
      "text/latex": [
       "$\\displaystyle \\left[\\begin{matrix}1 & 0 & 1 & 0\\\\0 & 1 & 0 & 1\\\\0 & 0 & 1 & 0\\\\0 & 0 & 0 & 1\\end{matrix}\\right]$"
      ],
      "text/plain": [
       "Matrix([\n",
       "[1, 0, 1, 0],\n",
       "[0, 1, 0, 1],\n",
       "[0, 0, 1, 0],\n",
       "[0, 0, 0, 1]])"
      ]
     },
     "execution_count": 31,
     "metadata": {},
     "output_type": "execute_result"
    }
   ],
   "source": [
    "# For T = 1\n",
    "Fi.subs(T, 1)"
   ]
  },
  {
   "cell_type": "markdown",
   "id": "e4a9c632-f90d-4c2f-af37-cb7bf44efa3f",
   "metadata": {},
   "source": [
    "- C = H"
   ]
  },
  {
   "cell_type": "code",
   "execution_count": 32,
   "id": "75365b6e-ab14-4580-91ec-78d7529b663b",
   "metadata": {},
   "outputs": [
    {
     "data": {
      "text/latex": [
       "$\\displaystyle \\left[\\begin{matrix}1 & 0 & 0 & 0\\\\0 & 1 & 0 & 0\\end{matrix}\\right]$"
      ],
      "text/plain": [
       "Matrix([\n",
       "[1, 0, 0, 0],\n",
       "[0, 1, 0, 0]])"
      ]
     },
     "execution_count": 32,
     "metadata": {},
     "output_type": "execute_result"
    }
   ],
   "source": [
    "H = sp.Matrix([[1, 0, 0, 0],\n",
    "               [0, 1, 0, 0]])\n",
    "H"
   ]
  },
  {
   "cell_type": "markdown",
   "id": "38669119-12a4-4bd3-baf0-7fd5a138a42d",
   "metadata": {},
   "source": [
    "- Q_i"
   ]
  },
  {
   "cell_type": "code",
   "execution_count": 34,
   "id": "5b1044fd-bd20-407c-b01c-f9f327b3ceab",
   "metadata": {},
   "outputs": [
    {
     "data": {
      "text/latex": [
       "$\\displaystyle \\left[\\begin{matrix}\\frac{T^{3} q}{3} & 0 & \\frac{T^{2} q}{2} & 0\\\\0 & \\frac{T^{3} q}{3} & 0 & \\frac{T^{2} q}{2}\\\\\\frac{T^{2} q}{2} & 0 & T q & 0\\\\0 & \\frac{T^{2} q}{2} & 0 & T q\\end{matrix}\\right]$"
      ],
      "text/plain": [
       "Matrix([\n",
       "[T**3*q/3,        0, T**2*q/2,        0],\n",
       "[       0, T**3*q/3,        0, T**2*q/2],\n",
       "[T**2*q/2,        0,      T*q,        0],\n",
       "[       0, T**2*q/2,        0,      T*q]])"
      ]
     },
     "execution_count": 34,
     "metadata": {},
     "output_type": "execute_result"
    }
   ],
   "source": [
    "# General\n",
    "L = sp.Matrix([[0, 0],\n",
    "               [0, 0],\n",
    "               [1, 0],\n",
    "               [0, 1]])\n",
    "Q = sp.integrate((Fi * L) * q * (Fi * L).T, (T, 0, T))\n",
    "Q"
   ]
  },
  {
   "cell_type": "code",
   "execution_count": 36,
   "id": "313a6a4e-7f24-4ba9-a34b-a679323e0056",
   "metadata": {},
   "outputs": [
    {
     "data": {
      "text/latex": [
       "$\\displaystyle \\left[\\begin{matrix}\\frac{q}{3} & 0 & \\frac{q}{2} & 0\\\\0 & \\frac{q}{3} & 0 & \\frac{q}{2}\\\\\\frac{q}{2} & 0 & q & 0\\\\0 & \\frac{q}{2} & 0 & q\\end{matrix}\\right]$"
      ],
      "text/plain": [
       "Matrix([\n",
       "[q/3,   0, q/2,   0],\n",
       "[  0, q/3,   0, q/2],\n",
       "[q/2,   0,   q,   0],\n",
       "[  0, q/2,   0,   q]])"
      ]
     },
     "execution_count": 36,
     "metadata": {},
     "output_type": "execute_result"
    }
   ],
   "source": [
    "# For T = 1\n",
    "# For q we can choose different values\n",
    "Q.subs(T, 1)"
   ]
  },
  {
   "cell_type": "markdown",
   "id": "550dc8f9-4eed-42bd-8c0d-b930c3e515a1",
   "metadata": {},
   "source": [
    "- R_i"
   ]
  },
  {
   "cell_type": "code",
   "execution_count": 37,
   "id": "9e3c041f-cf59-4fd2-b5c9-44f8c76e4a67",
   "metadata": {},
   "outputs": [
    {
     "data": {
      "text/latex": [
       "$\\displaystyle \\left[\\begin{matrix}r & 0\\\\0 & r\\end{matrix}\\right]$"
      ],
      "text/plain": [
       "Matrix([\n",
       "[r, 0],\n",
       "[0, r]])"
      ]
     },
     "execution_count": 37,
     "metadata": {},
     "output_type": "execute_result"
    }
   ],
   "source": [
    "# For r we can choose different values\n",
    "R = r * sp.Matrix([[1, 0], [0, 1]])\n",
    "R"
   ]
  },
  {
   "cell_type": "markdown",
   "id": "a0026084-e4d2-4685-8a7b-32ba15f212ee",
   "metadata": {},
   "source": [
    "### Nearly-constant acceleration\n",
    "Calculation of inputs"
   ]
  },
  {
   "cell_type": "code",
   "execution_count": 38,
   "id": "4448162b-b45d-4f05-a2da-ce818618d559",
   "metadata": {},
   "outputs": [],
   "source": [
    "T = sp.symbols('T')\n",
    "q = sp.symbols('q')\n",
    "r = sp.symbols('r')"
   ]
  },
  {
   "cell_type": "markdown",
   "id": "b745abaa-3069-46cf-80b3-fce2484b09c9",
   "metadata": {},
   "source": [
    "- A = Fi"
   ]
  },
  {
   "cell_type": "code",
   "execution_count": 40,
   "id": "6bcaab16-6044-4923-af3c-dbce63b2b4fe",
   "metadata": {},
   "outputs": [
    {
     "data": {
      "text/latex": [
       "$\\displaystyle \\left[\\begin{matrix}1 & 0 & T & 0 & \\frac{T^{2}}{2} & 0\\\\0 & 1 & 0 & T & 0 & \\frac{T^{2}}{2}\\\\0 & 0 & 1 & 0 & T & 0\\\\0 & 0 & 0 & 1 & 0 & T\\\\0 & 0 & 0 & 0 & 1 & 0\\\\0 & 0 & 0 & 0 & 0 & 1\\end{matrix}\\right]$"
      ],
      "text/plain": [
       "Matrix([\n",
       "[1, 0, T, 0, T**2/2,      0],\n",
       "[0, 1, 0, T,      0, T**2/2],\n",
       "[0, 0, 1, 0,      T,      0],\n",
       "[0, 0, 0, 1,      0,      T],\n",
       "[0, 0, 0, 0,      1,      0],\n",
       "[0, 0, 0, 0,      0,      1]])"
      ]
     },
     "execution_count": 40,
     "metadata": {},
     "output_type": "execute_result"
    }
   ],
   "source": [
    "# General\n",
    "F = sp.Matrix([[0, 0, 1, 0, 0, 0],\n",
    "               [0, 0, 0, 1, 0, 0],\n",
    "               [0, 0, 0, 0, 1, 0],\n",
    "               [0, 0, 0, 0, 0, 1],\n",
    "               [0, 0, 0, 0, 0, 0],\n",
    "               [0, 0, 0, 0, 0, 0]])\n",
    "Fi = sp.exp(F * T)\n",
    "Fi"
   ]
  },
  {
   "cell_type": "code",
   "execution_count": 41,
   "id": "ddc4b28b-f4fc-4362-bcb8-40647055cea5",
   "metadata": {},
   "outputs": [
    {
     "data": {
      "text/latex": [
       "$\\displaystyle \\left[\\begin{matrix}1 & 0 & 1 & 0 & \\frac{1}{2} & 0\\\\0 & 1 & 0 & 1 & 0 & \\frac{1}{2}\\\\0 & 0 & 1 & 0 & 1 & 0\\\\0 & 0 & 0 & 1 & 0 & 1\\\\0 & 0 & 0 & 0 & 1 & 0\\\\0 & 0 & 0 & 0 & 0 & 1\\end{matrix}\\right]$"
      ],
      "text/plain": [
       "Matrix([\n",
       "[1, 0, 1, 0, 1/2,   0],\n",
       "[0, 1, 0, 1,   0, 1/2],\n",
       "[0, 0, 1, 0,   1,   0],\n",
       "[0, 0, 0, 1,   0,   1],\n",
       "[0, 0, 0, 0,   1,   0],\n",
       "[0, 0, 0, 0,   0,   1]])"
      ]
     },
     "execution_count": 41,
     "metadata": {},
     "output_type": "execute_result"
    }
   ],
   "source": [
    "# For T = 1\n",
    "Fi.subs(T, 1)"
   ]
  },
  {
   "cell_type": "markdown",
   "id": "9c40bc2a-a5fc-481f-9736-53dd4bd18997",
   "metadata": {},
   "source": [
    "- C = H"
   ]
  },
  {
   "cell_type": "code",
   "execution_count": 42,
   "id": "850338d2-56d8-496e-95b7-ae73ffbc7738",
   "metadata": {},
   "outputs": [
    {
     "data": {
      "text/latex": [
       "$\\displaystyle \\left[\\begin{matrix}1 & 0 & 0 & 0 & 0 & 0\\\\0 & 1 & 0 & 0 & 0 & 0\\end{matrix}\\right]$"
      ],
      "text/plain": [
       "Matrix([\n",
       "[1, 0, 0, 0, 0, 0],\n",
       "[0, 1, 0, 0, 0, 0]])"
      ]
     },
     "execution_count": 42,
     "metadata": {},
     "output_type": "execute_result"
    }
   ],
   "source": [
    "H = sp.Matrix([[1, 0, 0, 0, 0, 0],\n",
    "               [0, 1, 0, 0, 0, 0]])\n",
    "H"
   ]
  },
  {
   "cell_type": "markdown",
   "id": "853da93c-2970-4b26-b154-5a54a29d2968",
   "metadata": {},
   "source": [
    "- Q_i"
   ]
  },
  {
   "cell_type": "code",
   "execution_count": 43,
   "id": "ad341f74-63d9-4026-8d18-16284a77fe0b",
   "metadata": {},
   "outputs": [
    {
     "data": {
      "text/latex": [
       "$\\displaystyle \\left[\\begin{matrix}\\frac{T^{5} q}{20} & 0 & \\frac{T^{4} q}{8} & 0 & \\frac{T^{3} q}{6} & 0\\\\0 & \\frac{T^{5} q}{20} & 0 & \\frac{T^{4} q}{8} & 0 & \\frac{T^{3} q}{6}\\\\\\frac{T^{4} q}{8} & 0 & \\frac{T^{3} q}{3} & 0 & \\frac{T^{2} q}{2} & 0\\\\0 & \\frac{T^{4} q}{8} & 0 & \\frac{T^{3} q}{3} & 0 & \\frac{T^{2} q}{2}\\\\\\frac{T^{3} q}{6} & 0 & \\frac{T^{2} q}{2} & 0 & T q & 0\\\\0 & \\frac{T^{3} q}{6} & 0 & \\frac{T^{2} q}{2} & 0 & T q\\end{matrix}\\right]$"
      ],
      "text/plain": [
       "Matrix([\n",
       "[T**5*q/20,         0, T**4*q/8,        0, T**3*q/6,        0],\n",
       "[        0, T**5*q/20,        0, T**4*q/8,        0, T**3*q/6],\n",
       "[ T**4*q/8,         0, T**3*q/3,        0, T**2*q/2,        0],\n",
       "[        0,  T**4*q/8,        0, T**3*q/3,        0, T**2*q/2],\n",
       "[ T**3*q/6,         0, T**2*q/2,        0,      T*q,        0],\n",
       "[        0,  T**3*q/6,        0, T**2*q/2,        0,      T*q]])"
      ]
     },
     "execution_count": 43,
     "metadata": {},
     "output_type": "execute_result"
    }
   ],
   "source": [
    "# General\n",
    "L = sp.Matrix([[0, 0],\n",
    "               [0, 0],\n",
    "               [0, 0],\n",
    "               [0, 0],\n",
    "               [1, 0],\n",
    "               [0, 1]])\n",
    "Q = sp.integrate((Fi * L) * q * (Fi * L).T, (T, 0, T))\n",
    "Q"
   ]
  },
  {
   "cell_type": "code",
   "execution_count": 45,
   "id": "4738f7e1-d355-405c-bc54-cad48f406a46",
   "metadata": {},
   "outputs": [
    {
     "data": {
      "text/latex": [
       "$\\displaystyle \\left[\\begin{matrix}\\frac{q}{20} & 0 & \\frac{q}{8} & 0 & \\frac{q}{6} & 0\\\\0 & \\frac{q}{20} & 0 & \\frac{q}{8} & 0 & \\frac{q}{6}\\\\\\frac{q}{8} & 0 & \\frac{q}{3} & 0 & \\frac{q}{2} & 0\\\\0 & \\frac{q}{8} & 0 & \\frac{q}{3} & 0 & \\frac{q}{2}\\\\\\frac{q}{6} & 0 & \\frac{q}{2} & 0 & q & 0\\\\0 & \\frac{q}{6} & 0 & \\frac{q}{2} & 0 & q\\end{matrix}\\right]$"
      ],
      "text/plain": [
       "Matrix([\n",
       "[q/20,    0, q/8,   0, q/6,   0],\n",
       "[   0, q/20,   0, q/8,   0, q/6],\n",
       "[ q/8,    0, q/3,   0, q/2,   0],\n",
       "[   0,  q/8,   0, q/3,   0, q/2],\n",
       "[ q/6,    0, q/2,   0,   q,   0],\n",
       "[   0,  q/6,   0, q/2,   0,   q]])"
      ]
     },
     "execution_count": 45,
     "metadata": {},
     "output_type": "execute_result"
    }
   ],
   "source": [
    "# For T = 1\n",
    "# For q we can choose different values\n",
    "Q.subs(T, 1)"
   ]
  },
  {
   "cell_type": "markdown",
   "id": "2410ed63-de2d-4046-966d-0da5928a9f0f",
   "metadata": {},
   "source": [
    "- R_i"
   ]
  },
  {
   "cell_type": "code",
   "execution_count": 49,
   "id": "a11065d3-6407-4b84-a97b-9c2006527b52",
   "metadata": {},
   "outputs": [
    {
     "data": {
      "text/latex": [
       "$\\displaystyle \\left[\\begin{matrix}r & 0\\\\0 & r\\end{matrix}\\right]$"
      ],
      "text/plain": [
       "Matrix([\n",
       "[r, 0],\n",
       "[0, r]])"
      ]
     },
     "execution_count": 49,
     "metadata": {},
     "output_type": "execute_result"
    }
   ],
   "source": [
    "# For r we can choose different values\n",
    "R = r * sp.Matrix([[1, 0], [0, 1]])\n",
    "R"
   ]
  },
  {
   "cell_type": "code",
   "execution_count": null,
   "id": "de1826d1-03c6-4979-8913-6b77d6f7e769",
   "metadata": {},
   "outputs": [],
   "source": []
  }
 ],
 "metadata": {
  "kernelspec": {
   "display_name": "Python 3 (ipykernel)",
   "language": "python",
   "name": "python3"
  },
  "language_info": {
   "codemirror_mode": {
    "name": "ipython",
    "version": 3
   },
   "file_extension": ".py",
   "mimetype": "text/x-python",
   "name": "python",
   "nbconvert_exporter": "python",
   "pygments_lexer": "ipython3",
   "version": "3.9.7"
  }
 },
 "nbformat": 4,
 "nbformat_minor": 5
}
